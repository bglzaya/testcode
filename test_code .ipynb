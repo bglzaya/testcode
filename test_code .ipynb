{
 "cells": [
  {
   "cell_type": "code",
   "execution_count": 1,
   "id": "af3651e8-b3e4-47fa-8b25-b1ee8c01754b",
   "metadata": {},
   "outputs": [
    {
     "name": "stdout",
     "output_type": "stream",
     "text": [
      "No global/local python version has been set yet. Please set the global/local version by typing:\n",
      "pyenv global 3.7.4\n",
      "pyenv local 3.7.4\n"
     ]
    }
   ],
   "source": [
    "!pip install keras\n"
   ]
  },
  {
   "cell_type": "code",
   "execution_count": 2,
   "id": "77600fe1-ca31-4aa4-9a07-57d905c5475a",
   "metadata": {},
   "outputs": [
    {
     "data": {
      "text/plain": [
       "13"
      ]
     },
     "execution_count": 2,
     "metadata": {},
     "output_type": "execute_result"
    }
   ],
   "source": [
    "3+10"
   ]
  },
  {
   "cell_type": "code",
   "execution_count": 12,
   "id": "be66040e-f092-4bc0-8b23-de9eedbb0103",
   "metadata": {},
   "outputs": [],
   "source": [
    "#install pandas data reader package\n",
    "!pip install pandas_datareader"
   ]
  },
  {
   "cell_type": "markdown",
   "id": "590e726b-f2c4-4570-a866-04a3e7a0b8bf",
   "metadata": {},
   "source": [
    "# <font> face=\"gotham\" color=\"\"purple > Хугацаан цуюааны өгөгдлийг боловсруулах </font>"
   ]
  },
  {
   "cell_type": "code",
   "execution_count": 7,
   "id": "5f4d8bde-79f3-4250-b0c3-233d66051718",
   "metadata": {},
   "outputs": [
    {
     "name": "stdout",
     "output_type": "stream",
     "text": [
      "No global/local python version has been set yet. Please set the global/local version by typing:\n",
      "pyenv global 3.7.4\n",
      "pyenv local 3.7.4\n"
     ]
    }
   ],
   "source": [
    "!pip update"
   ]
  },
  {
   "cell_type": "code",
   "execution_count": 16,
   "id": "73c7c005-8ae1-4bab-b9f4-cb557759d5ae",
   "metadata": {},
   "outputs": [
    {
     "name": "stdout",
     "output_type": "stream",
     "text": [
      "No global/local python version has been set yet. Please set the global/local version by typing:\n",
      "pyenv global 3.7.4\n",
      "pyenv local 3.7.4\n"
     ]
    }
   ],
   "source": [
    "!pip install matplotlib"
   ]
  },
  {
   "cell_type": "code",
   "execution_count": 17,
   "id": "45616709-ff04-4536-a94e-7621eed3e2df",
   "metadata": {},
   "outputs": [
    {
     "ename": "ModuleNotFoundError",
     "evalue": "No module named 'matplotlib'",
     "output_type": "error",
     "traceback": [
      "\u001b[1;31m---------------------------------------------------------------------------\u001b[0m",
      "\u001b[1;31mModuleNotFoundError\u001b[0m                       Traceback (most recent call last)",
      "Cell \u001b[1;32mIn[17], line 3\u001b[0m\n\u001b[0;32m      1\u001b[0m \u001b[38;5;28;01mimport\u001b[39;00m \u001b[38;5;21;01mpandas\u001b[39;00m \u001b[38;5;28;01mas\u001b[39;00m \u001b[38;5;21;01mpd\u001b[39;00m\n\u001b[0;32m      2\u001b[0m \u001b[38;5;28;01mimport\u001b[39;00m \u001b[38;5;21;01mnumpy\u001b[39;00m \u001b[38;5;28;01mas\u001b[39;00m \u001b[38;5;21;01mnp\u001b[39;00m\n\u001b[1;32m----> 3\u001b[0m \u001b[38;5;28;01mimport\u001b[39;00m \u001b[38;5;21;01mmatplotlib\u001b[39;00m\u001b[38;5;21;01m.\u001b[39;00m\u001b[38;5;21;01mpyplot\u001b[39;00m \u001b[38;5;28;01mas\u001b[39;00m \u001b[38;5;21;01mplt\u001b[39;00m\n\u001b[0;32m      4\u001b[0m \u001b[38;5;28;01mimport\u001b[39;00m \u001b[38;5;21;01mpandas_datareader\u001b[39;00m \u001b[38;5;28;01mas\u001b[39;00m \u001b[38;5;21;01mpdr\u001b[39;00m\n\u001b[0;32m      5\u001b[0m \u001b[38;5;28;01mimport\u001b[39;00m \u001b[38;5;21;01mdatetime\u001b[39;00m \u001b[38;5;28;01mas\u001b[39;00m \u001b[38;5;21;01mdt\u001b[39;00m\n",
      "\u001b[1;31mModuleNotFoundError\u001b[0m: No module named 'matplotlib'"
     ]
    }
   ],
   "source": [
    "import pandas as pd\n",
    "import numpy as np\n",
    "import matplotlib.pyplot as plt\n",
    "import pandas_datareader as pdr\n",
    "import datetime as dt\n",
    "import statsmodels.formula.api as smf\n",
    "import statsmodels.api as sm\n",
    "\n",
    "from statsmodels.tsa.filters.hp_filter import hpfilter\n",
    "from statsmodels.graphics.tsaplots import plot_acf"
   ]
  },
  {
   "cell_type": "code",
   "execution_count": 10,
   "id": "944774da-6cd0-48f3-ba00-bee603c008a2",
   "metadata": {},
   "outputs": [
    {
     "data": {
      "text/plain": [
       "0    10\n",
       "1    20\n",
       "2    30\n",
       "3    40\n",
       "4    50\n",
       "dtype: int64"
      ]
     },
     "execution_count": 10,
     "metadata": {},
     "output_type": "execute_result"
    }
   ],
   "source": [
    "row = pd.Series([10, 20, 30, 40, 50])\n",
    "row"
   ]
  },
  {
   "cell_type": "code",
   "execution_count": 11,
   "id": "d1292616-66fc-4331-a7e1-10a9600a3847",
   "metadata": {},
   "outputs": [
    {
     "data": {
      "text/html": [
       "<div>\n",
       "<style scoped>\n",
       "    .dataframe tbody tr th:only-of-type {\n",
       "        vertical-align: middle;\n",
       "    }\n",
       "\n",
       "    .dataframe tbody tr th {\n",
       "        vertical-align: top;\n",
       "    }\n",
       "\n",
       "    .dataframe thead th {\n",
       "        text-align: right;\n",
       "    }\n",
       "</style>\n",
       "<table border=\"1\" class=\"dataframe\">\n",
       "  <thead>\n",
       "    <tr style=\"text-align: right;\">\n",
       "      <th></th>\n",
       "      <th>0</th>\n",
       "      <th>1</th>\n",
       "      <th>2</th>\n",
       "    </tr>\n",
       "  </thead>\n",
       "  <tbody>\n",
       "    <tr>\n",
       "      <th>0</th>\n",
       "      <td>10</td>\n",
       "      <td>ten</td>\n",
       "      <td>True</td>\n",
       "    </tr>\n",
       "    <tr>\n",
       "      <th>1</th>\n",
       "      <td>20</td>\n",
       "      <td>twenty</td>\n",
       "      <td>False</td>\n",
       "    </tr>\n",
       "    <tr>\n",
       "      <th>2</th>\n",
       "      <td>30</td>\n",
       "      <td>thirty</td>\n",
       "      <td>True</td>\n",
       "    </tr>\n",
       "    <tr>\n",
       "      <th>3</th>\n",
       "      <td>40</td>\n",
       "      <td>forty</td>\n",
       "      <td>False</td>\n",
       "    </tr>\n",
       "    <tr>\n",
       "      <th>4</th>\n",
       "      <td>50</td>\n",
       "      <td>fifty</td>\n",
       "      <td>False</td>\n",
       "    </tr>\n",
       "  </tbody>\n",
       "</table>\n",
       "</div>"
      ],
      "text/plain": [
       "    0       1      2\n",
       "0  10     ten   True\n",
       "1  20  twenty  False\n",
       "2  30  thirty   True\n",
       "3  40   forty  False\n",
       "4  50   fifty  False"
      ]
     },
     "execution_count": 11,
     "metadata": {},
     "output_type": "execute_result"
    }
   ],
   "source": [
    "df = pd.DataFrame([[10, \"ten\", True],\n",
    "                   [20, \"twenty\", False],\n",
    "                   [30, \"thirty\", True],\n",
    "                   [40, \"forty\", False],\n",
    "                   [50, \"fifty\", False]])\n",
    "df"
   ]
  },
  {
   "cell_type": "markdown",
   "id": "c90413d0-b914-43cf-869d-ebcfb4475f3f",
   "metadata": {},
   "source": [
    "# <font face=\"gotham\" color=\"purple\"> Хугацаан цувааны өгөгдлийг боловсруулах </font>"
   ]
  },
  {
   "cell_type": "code",
   "execution_count": 19,
   "id": "b20a2e77-72f8-4824-a361-8cc3c8a2cfd2",
   "metadata": {},
   "outputs": [
    {
     "name": "stdout",
     "output_type": "stream",
     "text": [
      "Number of folds 26 that paper can be higher than Mt.Fuji\n"
     ]
    }
   ],
   "source": [
    "import math\n",
    "\n",
    "thickness = 0.00008\n",
    "mt_fuji_height = 3776\n",
    "\n",
    "folds = math.ceil(math.log2(mt_fuji_height/thickness))\n",
    "print(f\"Number of folds {folds} that paper can be higher than Mt.Fuji\")"
   ]
  },
  {
   "cell_type": "code",
   "execution_count": 28,
   "id": "80a6a3d2-917a-47e7-a08f-a12cf82dd6e9",
   "metadata": {},
   "outputs": [
    {
     "name": "stdout",
     "output_type": "stream",
     "text": [
      "8\n",
      "<class 'int'>\n"
     ]
    }
   ],
   "source": [
    "print(2**3)\n",
    "x=2**3\n",
    "print(type(2**3))\n"
   ]
  },
  {
   "cell_type": "code",
   "execution_count": 33,
   "id": "b7a8b328-7426-4732-84c5-505dc6648707",
   "metadata": {},
   "outputs": [
    {
     "data": {
      "text/plain": [
       "'bold'"
      ]
     },
     "execution_count": 33,
     "metadata": {},
     "output_type": "execute_result"
    }
   ],
   "source": [
    "a='bold'\n",
    "a"
   ]
  },
  {
   "cell_type": "code",
   "execution_count": 34,
   "id": "c8317b2e-e746-4913-805b-e08a866aad42",
   "metadata": {},
   "outputs": [
    {
     "data": {
      "text/plain": [
       "'bold'"
      ]
     },
     "execution_count": 34,
     "metadata": {},
     "output_type": "execute_result"
    }
   ],
   "source": [
    "a"
   ]
  },
  {
   "cell_type": "code",
   "execution_count": 35,
   "id": "dd50ec4d-a8b5-40e2-aceb-77e48633675b",
   "metadata": {},
   "outputs": [
    {
     "data": {
      "text/plain": [
       "('My name is', 'bold')"
      ]
     },
     "execution_count": 35,
     "metadata": {},
     "output_type": "execute_result"
    }
   ],
   "source": [
    "'My name is', a"
   ]
  },
  {
   "cell_type": "code",
   "execution_count": 36,
   "id": "749f7155-5b38-423a-b839-cab6f8b83325",
   "metadata": {},
   "outputs": [
    {
     "name": "stdout",
     "output_type": "stream",
     "text": [
      "Today's lowest temperature is +3 and tomorrow's lowest temperature is -5.\n"
     ]
    }
   ],
   "source": [
    "today_temperature = 3\n",
    "tomorrow_temperature = -5\n",
    "print(\"Today's lowest temperature is {:+} and tomorrow's lowest temperature is {:+}.\".format(today_temperature, tomorrow_temperature))\n"
   ]
  },
  {
   "cell_type": "code",
   "execution_count": 37,
   "id": "50b33bff-2975-41dc-a4bb-654d026cd269",
   "metadata": {},
   "outputs": [
    {
     "name": "stdout",
     "output_type": "stream",
     "text": [
      "The discount rate is12.5%!!\n"
     ]
    }
   ],
   "source": [
    "discount_rate = 0.125\n",
    "print(f\"The discount rate is{discount_rate:.1%}!!\")"
   ]
  },
  {
   "cell_type": "code",
   "execution_count": 38,
   "id": "a8e27ef0-fb17-4aa9-a863-66317455ff40",
   "metadata": {},
   "outputs": [
    {
     "name": "stdout",
     "output_type": "stream",
     "text": [
      "Python\n"
     ]
    }
   ],
   "source": [
    "print(\"python\".capitalize())"
   ]
  },
  {
   "cell_type": "code",
   "execution_count": 39,
   "id": "c3f44d58-66b3-4277-8b31-98965e2116b4",
   "metadata": {},
   "outputs": [
    {
     "name": "stdout",
     "output_type": "stream",
     "text": [
      "Student age 19\n"
     ]
    }
   ],
   "source": [
    "student_age = 19\n",
    "print(\"Student age\", student_age)"
   ]
  },
  {
   "cell_type": "code",
   "execution_count": 40,
   "id": "d50c5f17-d247-44f3-b992-147c03430e0d",
   "metadata": {},
   "outputs": [
    {
     "name": "stdout",
     "output_type": "stream",
     "text": [
      "Student age:19\n"
     ]
    }
   ],
   "source": [
    "print(\"Student age\", student_age, sep=\":\")"
   ]
  },
  {
   "cell_type": "code",
   "execution_count": 42,
   "id": "a55df634-3fe4-4264-8bbc-9a3d99332469",
   "metadata": {},
   "outputs": [
    {
     "name": "stdout",
     "output_type": "stream",
     "text": [
      "The average temperature for each month is 22 degrees in January and 27 degrees in February.\n"
     ]
    }
   ],
   "source": [
    "monthly_average_temperatures = [6, 7, 9, 15, 20, 22, 27, 26, 23, 17, 12, 7]\n",
    "print(\"The average temperature for each month is {} degrees in January and {} degrees in February.\".format(monthly_average_temperatures[5], monthly_average_temperatures[6]))"
   ]
  },
  {
   "cell_type": "code",
   "execution_count": 43,
   "id": "6748cb4e-6697-4235-aeb9-8f011cd4e1ad",
   "metadata": {},
   "outputs": [
    {
     "name": "stdout",
     "output_type": "stream",
     "text": [
      "[6, 9, 20, 27]\n"
     ]
    }
   ],
   "source": [
    "print(monthly_average_temperatures[0:7:2])"
   ]
  },
  {
   "cell_type": "code",
   "execution_count": 44,
   "id": "15269c29-8583-4eb1-8419-4936b9f7db0f",
   "metadata": {},
   "outputs": [
    {
     "name": "stdout",
     "output_type": "stream",
     "text": [
      "[15, 20, 22, 27, 26]\n"
     ]
    }
   ],
   "source": [
    "print(monthly_average_temperatures[3:8])"
   ]
  },
  {
   "cell_type": "code",
   "execution_count": 45,
   "id": "42c59ff1-f678-4d0e-8075-cfe5e2ad0ab5",
   "metadata": {},
   "outputs": [
    {
     "name": "stdout",
     "output_type": "stream",
     "text": [
      "[6, 22, 12]\n"
     ]
    }
   ],
   "source": [
    "print(monthly_average_temperatures[::5])"
   ]
  },
  {
   "cell_type": "code",
   "execution_count": 53,
   "id": "8711591f-df7e-4be4-97b0-f0d12d69d1c2",
   "metadata": {},
   "outputs": [
    {
     "name": "stdout",
     "output_type": "stream",
     "text": [
      "[7, 12, 17, 23, 26, 27, 22, 20, 15, 9, 7, 6]\n"
     ]
    }
   ],
   "source": [
    "print(monthly_average_temperatures[::-1])"
   ]
  },
  {
   "cell_type": "code",
   "execution_count": 55,
   "id": "15321812-55a9-4210-b5c3-f8e085cce2a7",
   "metadata": {},
   "outputs": [
    {
     "name": "stdout",
     "output_type": "stream",
     "text": [
      "[7, 9, 15, 20, 22, 26, 23, 17, 12, 7]\n"
     ]
    }
   ],
   "source": [
    "monthly_average_temperatures.remove(6)\n",
    "print(monthly_average_temperatures)"
   ]
  },
  {
   "cell_type": "code",
   "execution_count": 47,
   "id": "da97de01-240b-4d92-9451-84809e2d7f10",
   "metadata": {},
   "outputs": [
    {
     "name": "stdout",
     "output_type": "stream",
     "text": [
      "['alpha', 'beta']\n"
     ]
    }
   ],
   "source": [
    "texts = []\n",
    "texts.append(\"alpha\")\n",
    "texts.append(\"beta\")\n",
    "print(texts)"
   ]
  },
  {
   "cell_type": "code",
   "execution_count": 49,
   "id": "cc4287b1-d78a-4b0f-9d39-9bc5dac8882e",
   "metadata": {},
   "outputs": [
    {
     "data": {
      "text/plain": [
       "'beta'"
      ]
     },
     "execution_count": 49,
     "metadata": {},
     "output_type": "execute_result"
    }
   ],
   "source": [
    "texts.pop()"
   ]
  },
  {
   "cell_type": "code",
   "execution_count": 50,
   "id": "ba2b7acd-1361-4192-9de7-4f0e65dfcc80",
   "metadata": {},
   "outputs": [
    {
     "name": "stdout",
     "output_type": "stream",
     "text": [
      "['alpha']\n"
     ]
    }
   ],
   "source": [
    "print(texts)"
   ]
  },
  {
   "cell_type": "code",
   "execution_count": 56,
   "id": "e42fa0dc-ec89-498a-8a48-8c194f4225de",
   "metadata": {},
   "outputs": [
    {
     "name": "stdout",
     "output_type": "stream",
     "text": [
      "('A081', 'A114', 'A186')\n",
      "<class 'tuple'>\n"
     ]
    }
   ],
   "source": [
    "user_ids = (\"A081\", \"A114\", \"A186\")\n",
    "print(user_ids)\n",
    "print(type(user_ids))"
   ]
  },
  {
   "cell_type": "code",
   "execution_count": 58,
   "id": "36799797-21c5-40a4-bc34-6e693be607d5",
   "metadata": {},
   "outputs": [],
   "source": [
    "user_id1, user_id2, user_id3 = user_ids"
   ]
  },
  {
   "cell_type": "code",
   "execution_count": 59,
   "id": "453b3527-6eea-4319-ad20-ec232578db5c",
   "metadata": {},
   "outputs": [
    {
     "name": "stdout",
     "output_type": "stream",
     "text": [
      "()\n"
     ]
    }
   ],
   "source": [
    "empty_tuple = ()\n",
    "print(empty_tuple)"
   ]
  },
  {
   "cell_type": "code",
   "execution_count": 60,
   "id": "f50d8f4f-25b6-4a72-bf8f-4a226e1f1a5b",
   "metadata": {},
   "outputs": [],
   "source": [
    "temperature=35"
   ]
  },
  {
   "cell_type": "code",
   "execution_count": 65,
   "id": "bca2af53-8cca-4129-b468-36e6c4948196",
   "metadata": {},
   "outputs": [
    {
     "name": "stdout",
     "output_type": "stream",
     "text": [
      "I am going to buy an ice-cream\n"
     ]
    }
   ],
   "source": [
    "if temperature>30:\n",
    "    print(\"I am going to buy an ice-cream\")\n",
    "else:\n",
    "    print(\"I am going to buy nothing\")"
   ]
  },
  {
   "cell_type": "code",
   "execution_count": 68,
   "id": "c8302d34-6a75-4aa7-a6e9-f29700076c1c",
   "metadata": {},
   "outputs": [
    {
     "name": "stdout",
     "output_type": "stream",
     "text": [
      "<class 'bool'>\n"
     ]
    }
   ],
   "source": [
    "print(type(30<20))"
   ]
  },
  {
   "cell_type": "code",
   "execution_count": 69,
   "id": "0e23bcd9-b4cc-4e66-afbe-6156a136c293",
   "metadata": {},
   "outputs": [],
   "source": [
    "DEBUG=True\n",
    "DEBUG"
   ]
  },
  {
   "cell_type": "code",
   "execution_count": null,
   "id": "87b28948-9764-424d-a29c-45d7cb94bcc1",
   "metadata": {},
   "outputs": [
    {
     "name": "stdout",
     "output_type": "stream",
     "text": [
      "> \u001b[1;32mc:\\users\\baigalmaa.erdenetmc\\appdata\\local\\temp\\ipykernel_27772\\4091178698.py\u001b[0m(1)\u001b[0;36m<module>\u001b[1;34m()\u001b[0m\n",
      "\n"
     ]
    }
   ],
   "source": [
    "DEBUG"
   ]
  },
  {
   "cell_type": "code",
   "execution_count": null,
   "id": "18cfd1b3-85d3-4998-b03e-cbdfc776b528",
   "metadata": {},
   "outputs": [],
   "source": []
  }
 ],
 "metadata": {
  "kernelspec": {
   "display_name": "Python 3 (ipykernel)",
   "language": "python",
   "name": "python3"
  },
  "language_info": {
   "codemirror_mode": {
    "name": "ipython",
    "version": 3
   },
   "file_extension": ".py",
   "mimetype": "text/x-python",
   "name": "python",
   "nbconvert_exporter": "python",
   "pygments_lexer": "ipython3",
   "version": "3.11.6"
  }
 },
 "nbformat": 4,
 "nbformat_minor": 5
}
