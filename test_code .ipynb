{
 "cells": [
  {
   "cell_type": "code",
   "execution_count": 1,
   "id": "af3651e8-b3e4-47fa-8b25-b1ee8c01754b",
   "metadata": {},
   "outputs": [
    {
     "name": "stdout",
     "output_type": "stream",
     "text": [
      "No global/local python version has been set yet. Please set the global/local version by typing:\n",
      "pyenv global 3.7.4\n",
      "pyenv local 3.7.4\n"
     ]
    }
   ],
   "source": [
    "!pip install keras\n"
   ]
  },
  {
   "cell_type": "code",
   "execution_count": 2,
   "id": "77600fe1-ca31-4aa4-9a07-57d905c5475a",
   "metadata": {},
   "outputs": [
    {
     "data": {
      "text/plain": [
       "13"
      ]
     },
     "execution_count": 2,
     "metadata": {},
     "output_type": "execute_result"
    }
   ],
   "source": [
    "3+10"
   ]
  },
  {
   "cell_type": "code",
   "execution_count": null,
   "id": "be66040e-f092-4bc0-8b23-de9eedbb0103",
   "metadata": {},
   "outputs": [],
   "source": []
  }
 ],
 "metadata": {
  "kernelspec": {
   "display_name": "Python 3 (ipykernel)",
   "language": "python",
   "name": "python3"
  },
  "language_info": {
   "codemirror_mode": {
    "name": "ipython",
    "version": 3
   },
   "file_extension": ".py",
   "mimetype": "text/x-python",
   "name": "python",
   "nbconvert_exporter": "python",
   "pygments_lexer": "ipython3",
   "version": "3.11.6"
  }
 },
 "nbformat": 4,
 "nbformat_minor": 5
}
