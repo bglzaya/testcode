{
 "cells": [
  {
   "cell_type": "code",
   "execution_count": 1,
   "id": "ff5ec33e-29fb-4162-81ef-7e9b9ce1f90b",
   "metadata": {},
   "outputs": [
    {
     "data": {
      "text/plain": [
       "True"
      ]
     },
     "execution_count": 1,
     "metadata": {},
     "output_type": "execute_result"
    }
   ],
   "source": [
    "DEBUG=True\n",
    "DEBUG"
   ]
  },
  {
   "cell_type": "code",
   "execution_count": 3,
   "id": "0cf5f57d-1717-4aba-a120-9302768e7c51",
   "metadata": {},
   "outputs": [
    {
     "name": "stdout",
     "output_type": "stream",
     "text": [
      "Aliceは10代!!\n"
     ]
    }
   ],
   "source": [
    "student_name = \"Alice\"\n",
    "student_age = 19\n",
    "if (student_age >= 10) and (student_age < 20):\n",
    "  print(\"{}は10代!!\".format(student_name))"
   ]
  },
  {
   "cell_type": "code",
   "execution_count": 5,
   "id": "171b0ed6-61e8-4368-acb0-3eded230700d",
   "metadata": {},
   "outputs": [
    {
     "name": "stdout",
     "output_type": "stream",
     "text": [
      "Aliceは20歳以上!!\n"
     ]
    }
   ],
   "source": [
    "no_judgement = False\n",
    "student_name = \"Alice\"\n",
    "student_age = 30\n",
    "\n",
    "if not(no_judgement):\n",
    "  if student_age < 20:\n",
    "    print(\"{}は20歳未満!!\".format(student_name))\n",
    "  else:\n",
    "    print(\"{}は20歳以上!!\".format(student_name))\n",
    "else:\n",
    "  print(\"Age is not determined.\")"
   ]
  },
  {
   "cell_type": "code",
   "execution_count": 8,
   "id": "14bd72f4-c57b-4edf-b1d8-35d764587a59",
   "metadata": {},
   "outputs": [
    {
     "name": "stdout",
     "output_type": "stream",
     "text": [
      "5\n",
      "7\n",
      "9\n"
     ]
    }
   ],
   "source": [
    "for i in range(5, 10, 2):\n",
    "  print(i)"
   ]
  },
  {
   "cell_type": "code",
   "execution_count": 9,
   "id": "cf2f2718-8472-43fa-8a53-4f97530fe1ee",
   "metadata": {},
   "outputs": [
    {
     "name": "stdout",
     "output_type": "stream",
     "text": [
      "9\n",
      "8\n",
      "7\n",
      "6\n",
      "5\n",
      "4\n",
      "3\n",
      "2\n",
      "1\n",
      "0\n"
     ]
    }
   ],
   "source": [
    "for i in range(9, -1, -1):\n",
    "  print(i)"
   ]
  },
  {
   "cell_type": "code",
   "execution_count": 10,
   "id": "7bcca639-eb70-4d1b-8204-4038340c7c83",
   "metadata": {},
   "outputs": [
    {
     "name": "stdout",
     "output_type": "stream",
     "text": [
      "9\n",
      "8\n",
      "7\n",
      "6\n",
      "5\n",
      "4\n",
      "3\n",
      "2\n",
      "1\n",
      "0\n"
     ]
    }
   ],
   "source": [
    "for i in reversed(range(10)):\n",
    "  print(i)"
   ]
  },
  {
   "cell_type": "code",
   "execution_count": 11,
   "id": "5b523473-6c77-41ab-ada3-0a1908e1c241",
   "metadata": {},
   "outputs": [
    {
     "name": "stdout",
     "output_type": "stream",
     "text": [
      "1 The average monthly temperature is 6 degrees!!\n",
      "2 The average monthly temperature is 7 degrees!!\n",
      "3 The average monthly temperature is 9 degrees!!\n",
      "4 The average monthly temperature is 15 degrees!!\n",
      "5 The average monthly temperature is 20 degrees!!\n",
      "6 The average monthly temperature is 22 degrees!!\n",
      "7 The average monthly temperature is 27 degrees!!\n",
      "8 The average monthly temperature is 26 degrees!!\n",
      "9 The average monthly temperature is 23 degrees!!\n",
      "10 The average monthly temperature is 17 degrees!!\n",
      "11 The average monthly temperature is 12 degrees!!\n",
      "12 The average monthly temperature is 7 degrees!!\n"
     ]
    }
   ],
   "source": [
    "monthly_average_temperatures = [6, 7, 9, 15, 20, 22, 27, 26, 23, 17, 12, 7]\n",
    "for i in range(len(monthly_average_temperatures)):\n",
    "  print(\"{} The average monthly temperature is {} degrees!!\".format(i+1, monthly_average_temperatures[i]))"
   ]
  },
  {
   "cell_type": "code",
   "execution_count": 12,
   "id": "c2e5a35f-c9cb-47d0-9ac7-b5e34c8cf373",
   "metadata": {},
   "outputs": [
    {
     "name": "stdout",
     "output_type": "stream",
     "text": [
      "1 The average monthly temperature is 6 degrees!!\n",
      "2 The average monthly temperature is 7 degrees!!\n",
      "3 The average monthly temperature is 9 degrees!!\n",
      "4 The average monthly temperature is 15 degrees!!\n",
      "5 The average monthly temperature is 20 degrees!!\n",
      "6 The average monthly temperature is 22 degrees!!\n",
      "7 The average monthly temperature is 27 degrees!!\n",
      "8 The average monthly temperature is 26 degrees!!\n",
      "9 The average monthly temperature is 23 degrees!!\n",
      "10 The average monthly temperature is 17 degrees!!\n",
      "11 The average monthly temperature is 12 degrees!!\n",
      "12 The average monthly temperature is 7 degrees!!\n"
     ]
    }
   ],
   "source": [
    "monthly_average_temperatures = [6, 7, 9, 15, 20, 22, 27, 26, 23, 17, 12, 7]\n",
    "for i, temperature in enumerate(monthly_average_temperatures):\n",
    "  print(\"{} The average monthly temperature is {} degrees!!\".format(i+1, temperature))"
   ]
  },
  {
   "cell_type": "code",
   "execution_count": 13,
   "id": "f93b6c6e-124c-4bbe-95ea-7fd46cc993a9",
   "metadata": {},
   "outputs": [
    {
     "name": "stdout",
     "output_type": "stream",
     "text": [
      "1 The average monthly temperature is 6 degrees!!\n",
      "2 The average monthly temperature is 7 degrees!!\n",
      "3 The average monthly temperature is 9 degrees!!\n",
      "4 The average monthly temperature is 15 degrees!!\n",
      "5 The average monthly temperature is 20 degrees!!\n",
      "6 The average monthly temperature is 22 degrees!!\n",
      "7 The average monthly temperature is 27 degrees!!\n",
      "8 The average monthly temperature is 26 degrees!!\n",
      "9 The average monthly temperature is 23 degrees!!\n",
      "10 The average monthly temperature is 17 degrees!!\n",
      "11 The average monthly temperature is 12 degrees!!\n",
      "12 The average monthly temperature is 7 degrees!!\n"
     ]
    }
   ],
   "source": [
    "MONTH_NUMBERS = list(range(1,13))\n",
    "monthly_average_temperatures = [6, 7, 9, 15, 20, 22, 27, 26, 23, 17, 12, 7]\n",
    "for month_number, temperature in zip(MONTH_NUMBERS, monthly_average_temperatures):\n",
    "  print(\"{} The average monthly temperature is {} degrees!!\".format(month_number, temperature))"
   ]
  },
  {
   "cell_type": "code",
   "execution_count": 14,
   "id": "e12d4fbb-1ed8-4333-a3ff-d7d4526f6cd9",
   "metadata": {},
   "outputs": [
    {
     "name": "stdout",
     "output_type": "stream",
     "text": [
      "0\n",
      "3\n",
      "6\n",
      "9\n"
     ]
    }
   ],
   "source": [
    "num = 0\n",
    "while num < 10:\n",
    "  print(num)\n",
    "  num += 3"
   ]
  },
  {
   "cell_type": "code",
   "execution_count": 29,
   "id": "5d03708e-c6b4-408f-8ea7-5726316cbeb6",
   "metadata": {},
   "outputs": [
    {
     "name": "stdout",
     "output_type": "stream",
     "text": [
      "Aliceは20歳以上!!\n"
     ]
    }
   ],
   "source": [
    "no_judgement = False\n",
    "student_name = \"Alice\"\n",
    "student_age = 21\n",
    "\n",
    "if not(no_judgement):\n",
    "  if student_age < 20:\n",
    "    print(\"{}は20歳未満!!\".format(student_name))\n",
    "  else:\n",
    "    print(\"{}は20歳以上!!\".format(student_name))\n",
    "else:\n",
    "  print(\"Age is not determined.\")"
   ]
  },
  {
   "cell_type": "code",
   "execution_count": 18,
   "id": "92f26a58-9181-4c5b-b0c4-32718fbd27bf",
   "metadata": {},
   "outputs": [
    {
     "name": "stdout",
     "output_type": "stream",
     "text": [
      "16\n",
      "26\n",
      "-60\n"
     ]
    }
   ],
   "source": [
    "def sample_function(x, y):\n",
    "  answer = (x+y) * 2\n",
    "  return answer\n",
    "\n",
    "print(sample_function(3, 5))\n",
    "print(sample_function(10, 3))\n",
    "print(sample_function(-20, -10))"
   ]
  },
  {
   "cell_type": "code",
   "execution_count": 17,
   "id": "14b0d1f7-c565-42c2-b3e0-38074d4e232c",
   "metadata": {},
   "outputs": [
    {
     "name": "stdout",
     "output_type": "stream",
     "text": [
      "Hello, Python!\n",
      "Hello, Python?\n"
     ]
    }
   ],
   "source": [
    "def print_hello_something(something, end = \"!\"):\n",
    "  print(\"Hello, {}{}\".format(something, end))\n",
    "\n",
    "print_hello_something(\"Python\")\n",
    "print_hello_something(\"Python\", end = \"?\")"
   ]
  },
  {
   "cell_type": "code",
   "execution_count": 19,
   "id": "e162dbab-cb2e-4ad7-9d95-1a46e57674c3",
   "metadata": {},
   "outputs": [
    {
     "name": "stdout",
     "output_type": "stream",
     "text": [
      "AliceはUnder the age of 20!!\n"
     ]
    }
   ],
   "source": [
    "ADULT_AGE = 20\n",
    "\n",
    "student_name = \"Alice\"\n",
    "student_age = 19\n",
    "if student_age < ADULT_AGE:\n",
    "    print(\"{}はUnder the age of {}!!\".format(student_name, ADULT_AGE))\n",
    "else:\n",
    "    print(\"{}はOver the age of {}!!\".format(student_name, ADULT_AGE))"
   ]
  },
  {
   "cell_type": "code",
   "execution_count": 37,
   "id": "11d08654-f1e4-4eeb-ad2b-01143f50fe98",
   "metadata": {},
   "outputs": [
    {
     "name": "stdout",
     "output_type": "stream",
     "text": [
      "0\n"
     ]
    }
   ],
   "source": [
    "num = 0\n",
    "while True:\n",
    "    print(num)\n",
    "    num += 3\n",
    "    break"
   ]
  },
  {
   "cell_type": "code",
   "execution_count": 35,
   "id": "47218e9c-87b8-4ceb-a4f2-f5192684568a",
   "metadata": {},
   "outputs": [
    {
     "name": "stdout",
     "output_type": "stream",
     "text": [
      "0\n",
      "3\n",
      "6\n",
      "9\n"
     ]
    }
   ],
   "source": [
    "num = 0\n",
    "while num < 10:\n",
    "  print(num)\n",
    "  num += 3"
   ]
  },
  {
   "cell_type": "code",
   "execution_count": 38,
   "id": "f0b4c4dc-59d6-4011-bf68-78eef4fae5a5",
   "metadata": {},
   "outputs": [
    {
     "name": "stdout",
     "output_type": "stream",
     "text": [
      "16\n"
     ]
    },
    {
     "ename": "NameError",
     "evalue": "name 'answer2' is not defined",
     "output_type": "error",
     "traceback": [
      "\u001b[1;31m---------------------------------------------------------------------------\u001b[0m",
      "\u001b[1;31mNameError\u001b[0m                                 Traceback (most recent call last)",
      "Cell \u001b[1;32mIn[38], line 7\u001b[0m\n\u001b[0;32m      4\u001b[0m   \u001b[38;5;28;01mreturn\u001b[39;00m answer1\n\u001b[0;32m      6\u001b[0m \u001b[38;5;28mprint\u001b[39m(sample_function2(\u001b[38;5;241m3\u001b[39m, \u001b[38;5;241m5\u001b[39m))\n\u001b[1;32m----> 7\u001b[0m \u001b[38;5;28mprint\u001b[39m(\u001b[43manswer2\u001b[49m) \u001b[38;5;66;03m# NameError\u001b[39;00m\n",
      "\u001b[1;31mNameError\u001b[0m: name 'answer2' is not defined"
     ]
    }
   ],
   "source": [
    "def sample_function2(x, y):\n",
    "  answer1 = (x+y) * 2\n",
    "  answer2 = answer1 + 10\n",
    "  return answer1\n",
    "\n",
    "print(sample_function2(3, 5))\n",
    "print(answer2) # NameError"
   ]
  },
  {
   "cell_type": "code",
   "execution_count": 39,
   "id": "cad3b75e-b636-4bcf-abcb-b95ccefa0c1f",
   "metadata": {},
   "outputs": [
    {
     "name": "stdout",
     "output_type": "stream",
     "text": [
      "16\n",
      "26\n"
     ]
    }
   ],
   "source": [
    "def sample_function3(x, y):\n",
    "  answer1 = (x+y) * 2\n",
    "  answer2 = answer1 + 10\n",
    "  return answer1, answer2\n",
    "\n",
    "answer1, answer2 = sample_function3(3, 5)\n",
    "print(answer1)\n",
    "print(answer2)"
   ]
  },
  {
   "cell_type": "code",
   "execution_count": null,
   "id": "9dac79d8-1680-42a4-a803-63712c6406d0",
   "metadata": {},
   "outputs": [],
   "source": []
  }
 ],
 "metadata": {
  "kernelspec": {
   "display_name": "Python 3 (ipykernel)",
   "language": "python",
   "name": "python3"
  },
  "language_info": {
   "codemirror_mode": {
    "name": "ipython",
    "version": 3
   },
   "file_extension": ".py",
   "mimetype": "text/x-python",
   "name": "python",
   "nbconvert_exporter": "python",
   "pygments_lexer": "ipython3",
   "version": "3.11.6"
  }
 },
 "nbformat": 4,
 "nbformat_minor": 5
}
